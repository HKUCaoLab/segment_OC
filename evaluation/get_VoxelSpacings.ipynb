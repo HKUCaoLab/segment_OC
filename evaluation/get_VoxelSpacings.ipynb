{
 "cells": [
  {
   "cell_type": "code",
   "execution_count": 1,
   "id": "5267d268",
   "metadata": {
    "ExecuteTime": {
     "end_time": "2023-02-12T08:29:37.279381Z",
     "start_time": "2023-02-12T08:29:35.771911Z"
    }
   },
   "outputs": [],
   "source": [
    "import numpy as np\n",
    "import os\n",
    "import SimpleITK as sitk\n",
    "\n",
    "path1 = '/scratch/yiang/nnUNet/nnUNet_raw/nnUNet_raw_data/Task102_CaOvarySeg/imagesTr/'"
   ]
  },
  {
   "cell_type": "code",
   "execution_count": 3,
   "id": "61be5800",
   "metadata": {
    "ExecuteTime": {
     "end_time": "2023-02-12T08:32:24.554023Z",
     "start_time": "2023-02-12T08:30:01.060814Z"
    }
   },
   "outputs": [],
   "source": [
    "spacings = np.zeros([283, 3])\n",
    "fnames = os.listdir(path1)\n",
    "\n",
    "for ii in range(len(fnames)):\n",
    "    fname = fnames[ii]\n",
    "    fpath = os.path.join(path1, fname)\n",
    "    img = sitk.ReadImage(fpath)\n",
    "    spc = img.GetSpacing()\n",
    "    spacings[ii, :] = spc\n",
    "    "
   ]
  },
  {
   "cell_type": "code",
   "execution_count": 9,
   "id": "8238a54e",
   "metadata": {
    "ExecuteTime": {
     "end_time": "2023-02-12T08:38:54.162166Z",
     "start_time": "2023-02-12T08:38:54.153767Z"
    }
   },
   "outputs": [
    {
     "name": "stdout",
     "output_type": "stream",
     "text": [
      "0.578125 1.0829999446868896\n",
      "0.578125 1.0829999446868896\n",
      "1.0 5.0\n"
     ]
    }
   ],
   "source": [
    "print(np.min(spacings[:, 0]), np.max(spacings[:, 0]))\n",
    "print(np.min(spacings[:, 1]), np.max(spacings[:, 1]))\n",
    "print(np.min(spacings[:, 2]), np.max(spacings[:, 2]))"
   ]
  },
  {
   "cell_type": "code",
   "execution_count": 1,
   "id": "9cdda16e",
   "metadata": {
    "ExecuteTime": {
     "end_time": "2023-02-12T08:42:34.341002Z",
     "start_time": "2023-02-12T08:42:34.066715Z"
    }
   },
   "outputs": [],
   "source": [
    "import numpy as np\n",
    "import os\n",
    "import SimpleITK as sitk\n",
    "\n",
    "path1 = '/home/yiang/Documents/Dataset/DL_CaOvary/dataset_HK/Image/'\n",
    "fnames = os.listdir(path1)"
   ]
  },
  {
   "cell_type": "code",
   "execution_count": 3,
   "id": "32c1a26b",
   "metadata": {
    "ExecuteTime": {
     "end_time": "2023-02-12T08:44:42.690096Z",
     "start_time": "2023-02-12T08:44:42.684916Z"
    }
   },
   "outputs": [],
   "source": [
    "fnames1 = []\n",
    "fnames2 = []\n",
    "for fname in fnames:\n",
    "    if fname[:3] == 'DDR':\n",
    "        fnames1.append(fname)\n",
    "    else:\n",
    "        fnames2.append(fname)\n",
    "        "
   ]
  },
  {
   "cell_type": "code",
   "execution_count": 6,
   "id": "a1455436",
   "metadata": {
    "ExecuteTime": {
     "end_time": "2023-02-12T08:57:51.571234Z",
     "start_time": "2023-02-12T08:57:24.978655Z"
    }
   },
   "outputs": [
    {
     "name": "stdout",
     "output_type": "stream",
     "text": [
      "42\n",
      "0.5273439884185791 0.703125\n",
      "0.5273439884185791 0.703125\n",
      "5.0 5.0\n"
     ]
    }
   ],
   "source": [
    "spacings = np.zeros([42, 3])\n",
    "for ii in range(len(fnames1)):\n",
    "    fname = fnames1[ii]\n",
    "    fpath = os.path.join(path1, fname)\n",
    "    img = sitk.ReadImage(fpath)\n",
    "    spc = img.GetSpacing()\n",
    "    spacings[ii, :] = spc\n",
    "\n",
    "print(len(fnames1))\n",
    "print(np.min(spacings[:, 0]), np.max(spacings[:, 0]))\n",
    "print(np.min(spacings[:, 1]), np.max(spacings[:, 1]))\n",
    "print(np.min(spacings[:, 2]), np.max(spacings[:, 2]))"
   ]
  },
  {
   "cell_type": "code",
   "execution_count": 7,
   "id": "5db0c2a5",
   "metadata": {
    "ExecuteTime": {
     "end_time": "2023-02-12T08:59:33.327659Z",
     "start_time": "2023-02-12T08:58:52.312513Z"
    }
   },
   "outputs": [
    {
     "name": "stdout",
     "output_type": "stream",
     "text": [
      "42\n",
      "0.5860000252723694 0.79296875\n",
      "0.5860000252723694 0.79296875\n",
      "5.0 5.0\n"
     ]
    }
   ],
   "source": [
    "spacings = np.zeros([42, 3])\n",
    "for ii in range(len(fnames2)):\n",
    "    fname = fnames2[ii]\n",
    "    fpath = os.path.join(path1, fname)\n",
    "    img = sitk.ReadImage(fpath)\n",
    "    spc = img.GetSpacing()\n",
    "    spacings[ii, :] = spc\n",
    "\n",
    "print(len(fnames2))\n",
    "print(np.min(spacings[:, 0]), np.max(spacings[:, 0]))\n",
    "print(np.min(spacings[:, 1]), np.max(spacings[:, 1]))\n",
    "print(np.min(spacings[:, 2]), np.max(spacings[:, 2]))"
   ]
  }
 ],
 "metadata": {
  "hide_input": false,
  "kernelspec": {
   "display_name": "Python 3",
   "language": "python",
   "name": "python3"
  },
  "language_info": {
   "codemirror_mode": {
    "name": "ipython",
    "version": 3
   },
   "file_extension": ".py",
   "mimetype": "text/x-python",
   "name": "python",
   "nbconvert_exporter": "python",
   "pygments_lexer": "ipython3",
   "version": "3.7.7"
  },
  "toc": {
   "base_numbering": 1,
   "nav_menu": {},
   "number_sections": true,
   "sideBar": true,
   "skip_h1_title": false,
   "title_cell": "Table of Contents",
   "title_sidebar": "Contents",
   "toc_cell": false,
   "toc_position": {},
   "toc_section_display": true,
   "toc_window_display": false
  },
  "varInspector": {
   "cols": {
    "lenName": 16,
    "lenType": 16,
    "lenVar": 40
   },
   "kernels_config": {
    "python": {
     "delete_cmd_postfix": "",
     "delete_cmd_prefix": "del ",
     "library": "var_list.py",
     "varRefreshCmd": "print(var_dic_list())"
    },
    "r": {
     "delete_cmd_postfix": ") ",
     "delete_cmd_prefix": "rm(",
     "library": "var_list.r",
     "varRefreshCmd": "cat(var_dic_list()) "
    }
   },
   "position": {
    "height": "225.844px",
    "left": "1550px",
    "right": "20px",
    "top": "120px",
    "width": "350px"
   },
   "types_to_exclude": [
    "module",
    "function",
    "builtin_function_or_method",
    "instance",
    "_Feature"
   ],
   "window_display": true
  }
 },
 "nbformat": 4,
 "nbformat_minor": 5
}